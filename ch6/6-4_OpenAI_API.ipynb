{
 "cells": [
  {
   "cell_type": "code",
   "execution_count": null,
   "metadata": {},
   "outputs": [],
   "source": [
    "!pip install openai==0.28.1"
   ]
  },
  {
   "cell_type": "markdown",
   "metadata": {},
   "source": [
    "### 시스템에 키 값 설정하기 \n",
    "export OPENAI_API_KEY='your_api_key_here'\n",
    "\n",
    "import os\n",
    "api_key = os.environ.get('OPENAI_API_KEY')"
   ]
  },
  {
   "cell_type": "code",
   "execution_count": 1,
   "metadata": {},
   "outputs": [],
   "source": [
    "import openai # openai 라이브러리 임포트\n",
    "\n",
    "openai.api_key = \"sk-proj-8XqBwvmdrzjIOkD6gbIhT3BlbkFJPH4a7RFneG2aFFIkFjcw\" # OpenAI API의 API 키 지정"
   ]
  },
  {
   "cell_type": "code",
   "execution_count": null,
   "metadata": {},
   "outputs": [],
   "source": [
    "import openai\n",
    "import os\n",
    "\n",
    "# API 키 설정\n",
    "openai.api_key = os.environ[\"OPENAI_API_KEY\"]"
   ]
  },
  {
   "cell_type": "code",
   "execution_count": null,
   "metadata": {},
   "outputs": [],
   "source": [
    "import openai\n",
    "import os\n",
    "\n",
    "# API 키 설정\n",
    "openai.api_key = os.environ[\"OPENAI_API_KEY\"]\n",
    "\n",
    "# 모든 OpenAP API의 모델 리스트를 요청해 가져오기\n",
    "models = openai.Model.list()\n",
    "\n",
    "# 가져온 모델 리스트 출력하기 \n",
    "print(models[\"data\"][0]['id']) # 모델 리스트 중 첫 번째 항목의 ID 출력\n",
    "# print(models[\"data\"])  # 모델 리스트 전체 정보 출력"
   ]
  },
  {
   "cell_type": "code",
   "execution_count": 2,
   "metadata": {},
   "outputs": [
    {
     "name": "stdout",
     "output_type": "stream",
     "text": [
      "대한민국의 수도는 서울입니다.\n"
     ]
    }
   ],
   "source": [
    "import openai\n",
    "\n",
    "# 대화 메시지 정의\n",
    "messages = [\n",
    "    {\"role\": \"user\", \"content\": \"대한민국의 수도는 어디인가요?\"}\n",
    "]\n",
    "\n",
    "# Chat Completions API 호출\n",
    "response = openai.ChatCompletion.create(\n",
    "                model=\"gpt-3.5-turbo\", # 모든 사용자 설정 가능\n",
    "                messages=messages, # 전달할 메시지 지정\n",
    "                max_tokens=1000, # 응답 최대 토큰 수 지정\n",
    "                temperature=0.8, # 완성의 다양성을 조절하는 온도 설정\n",
    "                n=1 # 생성할 완성의 개수 지정\n",
    ")\n",
    "\n",
    "# 응답 출력\n",
    "assistant_reply = response.choices[0].message['content'] # 첫 번째 응답 결과 가져오기\n",
    "print(assistant_reply)"
   ]
  },
  {
   "cell_type": "code",
   "execution_count": 3,
   "metadata": {},
   "outputs": [
    {
     "data": {
      "text/plain": [
       "<OpenAIObject chat.completion id=chatcmpl-9dTOrSidQoN0GprGgll9m3LYsbPTT at 0x117ba3b30> JSON: {\n",
       "  \"id\": \"chatcmpl-9dTOrSidQoN0GprGgll9m3LYsbPTT\",\n",
       "  \"object\": \"chat.completion\",\n",
       "  \"created\": 1719194833,\n",
       "  \"model\": \"gpt-3.5-turbo-0125\",\n",
       "  \"choices\": [\n",
       "    {\n",
       "      \"index\": 0,\n",
       "      \"message\": {\n",
       "        \"role\": \"assistant\",\n",
       "        \"content\": \"\\ub300\\ud55c\\ubbfc\\uad6d\\uc758 \\uc218\\ub3c4\\ub294 \\uc11c\\uc6b8\\uc785\\ub2c8\\ub2e4.\"\n",
       "      },\n",
       "      \"logprobs\": null,\n",
       "      \"finish_reason\": \"stop\"\n",
       "    }\n",
       "  ],\n",
       "  \"usage\": {\n",
       "    \"prompt_tokens\": 24,\n",
       "    \"completion_tokens\": 15,\n",
       "    \"total_tokens\": 39\n",
       "  },\n",
       "  \"system_fingerprint\": null\n",
       "}"
      ]
     },
     "execution_count": 3,
     "metadata": {},
     "output_type": "execute_result"
    }
   ],
   "source": [
    "response"
   ]
  },
  {
   "cell_type": "code",
   "execution_count": null,
   "metadata": {},
   "outputs": [],
   "source": [
    "import json\n",
    "\n",
    "message = response.choices[0].message\n",
    "json.dumps(message, ensure_ascii=False)"
   ]
  },
  {
   "cell_type": "code",
   "execution_count": null,
   "metadata": {},
   "outputs": [],
   "source": [
    "# 대화 메시지 정의\n",
    "messages = [\n",
    "    {\"role\": \"user\", \"content\": \"한국사람이 좋아하는 음식은?\"}\n",
    "]\n",
    "\n",
    "# Chat Completions API 호출\n",
    "response = openai.ChatCompletion.create(\n",
    "                model=\"gpt-3.5-turbo\",\n",
    "                messages=messages,\n",
    "                max_tokens=1000,\n",
    "                temperature=0.8,\n",
    "                n=2 \n",
    ")\n",
    "\n",
    "print(\"응답 개수:\", len(response.choices)) # 응답 개수 출력"
   ]
  },
  {
   "cell_type": "code",
   "execution_count": null,
   "metadata": {},
   "outputs": [],
   "source": [
    "print(\"[응답 0]\", response.choices[0].message['content'])\n",
    "print(\"[응답 1]\", response.choices[1].message['content'])"
   ]
  }
 ],
 "metadata": {
  "anaconda-cloud": {},
  "kernelspec": {
   "display_name": "Python 3 (ipykernel)",
   "language": "python",
   "name": "python3"
  },
  "language_info": {
   "codemirror_mode": {
    "name": "ipython",
    "version": 3
   },
   "file_extension": ".py",
   "mimetype": "text/x-python",
   "name": "python",
   "nbconvert_exporter": "python",
   "pygments_lexer": "ipython3",
   "version": "3.11.9"
  },
  "latex_envs": {
   "LaTeX_envs_menu_present": true,
   "autoclose": false,
   "autocomplete": true,
   "bibliofile": "biblio.bib",
   "cite_by": "apalike",
   "current_citInitial": 1,
   "eqLabelWithNumbers": true,
   "eqNumInitial": 1,
   "hotkeys": {
    "equation": "Ctrl-E",
    "itemize": "Ctrl-I"
   },
   "labels_anchors": false,
   "latex_user_defs": false,
   "report_style_numbering": false,
   "user_envs_cfg": false
  },
  "nav_menu": {},
  "toc": {
   "base_numbering": "6",
   "nav_menu": {
    "height": "512px",
    "width": "252px"
   },
   "number_sections": false,
   "sideBar": true,
   "skip_h1_title": false,
   "title_cell": "Table of Contents",
   "title_sidebar": "Contents",
   "toc_cell": false,
   "toc_position": {
    "height": "545px",
    "left": "22px",
    "right": "1078px",
    "top": "271.133px",
    "width": "435px"
   },
   "toc_section_display": true,
   "toc_window_display": false
  },
  "toc_position": {
   "height": "556px",
   "left": "0px",
   "right": "1057px",
   "top": "107px",
   "width": "309px"
  }
 },
 "nbformat": 4,
 "nbformat_minor": 1
}
