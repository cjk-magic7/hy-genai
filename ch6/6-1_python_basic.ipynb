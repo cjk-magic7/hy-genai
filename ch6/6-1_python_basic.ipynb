{
 "cells": [
  {
   "cell_type": "markdown",
   "metadata": {},
   "source": [
    "# Python 기초\n",
    "\n",
    "파이썬(Python)은 오늘날 가장 인기 있고 널리 사용되는 프로그래밍 언어 중 하나입니다. \n",
    "\n",
    "간결한 문법과 강력한 기능 덕분에 데이터 분석, 웹 개발, 인공지능 등 다양한 분야에서 두각을 나타내고 있습니다. \n",
    "\n",
    "특히, 자연어 처리와 인공지능 연구에서는 파이썬이 표준 언어로 자리 잡고 있습니다. \n",
    "\n",
    "LLM (Large Language Model) 애플리케이션을 작성하기 위해 파이썬을 학습하는 것은 매우 중요한 첫걸음입니다. \n",
    "\n",
    "단계별 학습 과정을 통해 파이썬의 기초부터 고급 개념까지 이해하고, 나아가 자연어 처리와 인공지능 분야의 실제 응용까지 경험할 수 있습니다. \n",
    "\n",
    "이러한 체계적인 학습은 효과적인 LLM 애플리케이션 개발을 위한 탄탄한 기초가 됩니다."
   ]
  },
  {
   "cell_type": "markdown",
   "metadata": {},
   "source": [
    "## 변수\n",
    "파이썬에서 변수(variable)는 데이터를 저장하기 위한 이름표입니다.\n",
    "\n",
    "변수는 값을 저장하고, 나중에 그 값을 참조하거나 수정할 수 있도록 합니다.\n",
    "\n",
    " 변수는 메모리 위치에 이름을 붙이는 역할을 하며, 이를 통해 데이터를 쉽게 관리할 수 있습니다."
   ]
  },
  {
   "cell_type": "markdown",
   "metadata": {},
   "source": [
    "### 변수 선언과 할당\n",
    "\n",
    "파이썬에서 변수를 선언하고 값을 할당하는 방법은 매우 간단합니다. \"=\" 연산자를 사용하여 변수에 값을 할당합니다.\n",
    "\n",
    "아래 코드에서 'x', 'y', 'z'는 각각 정수, 문자열, 실수 값을 가지는 변수입니다."
   ]
  },
  {
   "cell_type": "code",
   "execution_count": null,
   "metadata": {},
   "outputs": [],
   "source": [
    "# 변수 선언 및 값 할당\n",
    "x = 10\n",
    "y = \"Hello, World!\"\n",
    "z = 3.14"
   ]
  },
  {
   "cell_type": "markdown",
   "metadata": {},
   "source": [
    "### 변수 이름 규칙\n",
    "\n",
    "변수 이름을 지을 때 다음 규칙을 따라야 합니다.\n",
    "\n",
    "1. 변수 이름은 문자(a-z, A-Z), 숫자(0-9), 밑줄(_)로 구성될 수 있습니다.\n",
    "1. 변수 이름은 숫자로 시작할 수 없습니다.\n",
    "1. 변수 이름은 대소문자를 구분합니다 (var와 Var는 다른 변수로 간주됨).\n",
    "1. 파이썬의 키워드(예약어)는 변수 이름으로 사용할 수 없습니다.\n",
    "\n"
   ]
  },
  {
   "cell_type": "code",
   "execution_count": null,
   "metadata": {},
   "outputs": [],
   "source": []
  },
  {
   "cell_type": "code",
   "execution_count": null,
   "metadata": {},
   "outputs": [],
   "source": [
    "# 올바른 변수 이름\n",
    "name = \"Alice\"\n",
    "age = 25\n",
    "_is_student = True\n",
    "\n",
    "# 잘못된 변수 이름\n",
    "2nd_place = \"Silver\"  # 숫자로 시작함\n",
    "class = \"Python\"  # 키워드 사용"
   ]
  },
  {
   "cell_type": "markdown",
   "metadata": {},
   "source": [
    "### 파이썬 예약어\n",
    "아래는 파이썬에서 사용하는 예약어입니다. 예약어는 변수로 지정할 수 없습니다. 한편 각각의 예약은 파이썬 프로그램 실행을 위해서 매우 중요한 역할을 하는 것이기 때문에, 파이썬을 학습하는 분들이라면 각 예약어의 동작을 알고 있는 것이 좋습니다. 이제 막 파이썬을 공부하기 시작하셨다면 억지로 암기하려고 하지 마시고, 이러한 내용이 있다는 정도만 기억해 두시면 됩니다.\n",
    "\n",
    "\n",
    "True, False : 참/거짓을 표현하기 위한 자료형 부울(Boolean, Bool)에는 True, False 딱 2가지의 값만 존재한다. 파이썬에서 숫자 0은 False, 0을 제외한 모든 정수는 True를 의미한다.\n",
    "\n",
    "None : 값이 없거나 알 수 없음(absence of a value or a null value)을 의미한다. NoneType이라는 자료형에 존재한다.\n",
    "\n",
    "and\t: 둘 다 True면 True, 둘 중 하나라도 False가 있으면 False, 둘 다 False면 False\n",
    "\n",
    "as : 모듈 이름 다음에 as로 사용한 경우 모듈 이름의 별칭을 as 이후의 것으로 사용\n",
    "\n",
    "assert : 프로그램에 디버깅 어서션(debugging assertion)를 발생시키는 예약어\n",
    "\n",
    "break : 반복문(while 문 또는 for 문)에서 빠져나올때 쓰는 예약어. 조건이 참이면 반복문 중단\n",
    "\n",
    "class : 클래스를 정의할 때 쓰는 예약어\n",
    "\n",
    "continue : 조건이 참이면 반복문이 계속\n",
    "\n",
    "def\t: 함수를 정의할 때 사용\n",
    "\n",
    "del : 인덱스를 사용하여 항목을 삭제\n",
    "\n",
    "elif : else if의 줄임말. 조건이 거짓이면 elif문이 실행된다. 조건을 여러개 걸고 싶을 때 사용하는 예약어\n",
    "\n",
    "else : if문에서 조건이 거짓이면 else로 넘어가 다음 명령이 실행된다. elif는 여러 개 쓸 수 있으나 else는 하나만 쓸 수 있다.\n",
    "\n",
    "except : 예외 처리 관련 예약어. \n",
    "\n",
    "finally\t: 예외 처리 관련 예약어\n",
    "\n",
    "for\t: 반복문 예약어\n",
    "\n",
    "from : 현재 네임스페이스(namespace)로 특정 모듈 중 일부(specific attributes or functions)를 가져오는데 사용하는 예약어\n",
    "\n",
    "global : 변수 범위(scope) 관련 예약어\n",
    "\n",
    "if\t: 조건문 예약어\n",
    "\n",
    "import\t: 현재 네임스페이스(namespace)로 특정 모듈 전체를 가져오는 예약어\n",
    "\n",
    "in\t: 시퀀스 자료형(리스트, 튜플, 문자열 등) 안에 어떤 값이 들어있는지 여부를 확인하는 예약어\n",
    "\n",
    "is\t: 두 값의 참조(레퍼런스, 포인터)를 비교하는 연산자. \"==\"는 값을 비교하는 연산자로 is와 다르다.\n",
    "\n",
    "lambda : 익명 함수를 만드는 연산자. \n",
    "\n",
    "nonlocal :변수 범위(scope) 관련 예약어\n",
    "\n",
    "not\t: True, False의 반대값을 출력하는 예약어. (예: >>> not False 의 결과값은 True)\n",
    "\n",
    "or : 둘 다 True면 True, 둘 중 하나라도 True가 있으면 True, 둘 다 False면 False\n",
    "\n",
    "pass : 어떤 조건문 밑에 pass를 쓰면 그 조건을 실행하지 않고 다음 명령을 실행\n",
    "\n",
    "raise :\t파이썬에서 기본적으로 뜨는 오류 외에 프로그래머가 오류 상황을 직접 정의하여 예외를 발생시켜야 할 때 사용하는 예약어\n",
    "\n",
    "return\t: 함수 안에서 사용되어 값을 반환하고 함수문을 빠져나오는 예약어\n",
    "\n",
    "try : 처리 관련 예약어\n",
    "\n",
    "while :\t반복문 예약어. \n",
    "\n",
    "with : 예외문 관련, _enter_ 및 _exit_와 함께 쓰이는 예약어\n",
    "\n",
    "yield :\t함수 안에서 사용되어 return과 비슷한 역할을 하는 예약어. 그러나 yield는 gernerator를 반환한다는 점에서 차이가 있다."
   ]
  },
  {
   "cell_type": "markdown",
   "metadata": {},
   "source": [
    "### 변수의 데이터 타입\n",
    "파이썬에서는 변수에 다양한 데이터 타입을 할당할 수 있습니다. 변수의 타입은 할당된 값에 따라 자동으로 결정됩니다.\n",
    "\n",
    "- 정수형 (int): 정수를 저장하는 타입\n",
    "- 실수형 (float): 소수점을 포함하는 수를 저장하는 타입\n",
    "- 문자열형 (str): 문자열을 저장하는 타입\n",
    "- 불리언형 (bool): 참(True) 또는 거짓(False) 값을 저장하는 타입\n",
    "- 리스트형 (list): 여러 값을 순서대로 저장하는 타입\n",
    "- 튜플 (tuple) : 리스트와 형태는 유사. 값의 수정이 불가\n",
    "- 세트 (set) : 집합. 값의 중복을 허용하지 않음.\n",
    "- 딕셔너리형 (dict): 키-값 쌍을 저장하는 타입"
   ]
  },
  {
   "cell_type": "code",
   "execution_count": null,
   "metadata": {},
   "outputs": [],
   "source": [
    "# 다양한 데이터 타입의 변수\n",
    "integer_var = 42\n",
    "float_var = 3.14159\n",
    "string_var = \"Hello\"\n",
    "boolean_var = True\n",
    "list_var = [1, 2, 3, 4, 5]\n",
    "dict_var = {\"name\": \"Alice\", \"age\": 25}\n",
    "tuple_var = (1, 2, 3, 4, 5)\n",
    "set_var = {\"Apple\", \"Banana\", 20, 5, 3, 4, 4, \"Apple\"}"
   ]
  },
  {
   "cell_type": "markdown",
   "metadata": {},
   "source": [
    "### 변수의 타입 확인\n",
    "변수의 타입을 확인하려면 type() 함수를 사용하면 됩니다."
   ]
  },
  {
   "cell_type": "code",
   "execution_count": null,
   "metadata": {},
   "outputs": [],
   "source": [
    "x = 100\n",
    "print(type(x))  # 출력: <class 'int'>\n",
    "\n",
    "y = \"OpenAI\"\n",
    "print(type(y))  # 출력: <class 'str'>\n"
   ]
  },
  {
   "cell_type": "markdown",
   "metadata": {},
   "source": [
    "integer_var, float_var, string_var, boolean_var, list_var, dict_var, tuple_var, set_var의 변수 타입을 출력해 봅시다."
   ]
  },
  {
   "cell_type": "code",
   "execution_count": null,
   "metadata": {},
   "outputs": [],
   "source": [
    "print(type(integer_var))\n",
    "type(float_var)"
   ]
  },
  {
   "cell_type": "markdown",
   "metadata": {},
   "source": [
    "### 변수의 동적 타이핑\n",
    "파이썬은 동적 타이핑(dynamic typing)을 지원합니다. 이는 변수의 타입을 변경할 수 있음을 의미합니다. \n",
    "\n",
    "모든 프로그래밍 언어가 동적 타이핑을 지원하는 것은 아닙니다. 프로그래밍 언어에 익숙하지 않다면 이러한 특징이 있다는 정도만 확인하시기 바랍니다."
   ]
  },
  {
   "cell_type": "code",
   "execution_count": null,
   "metadata": {},
   "outputs": [],
   "source": [
    "var = 10      # 정수형\n",
    "print(var)    # 출력: 10\n",
    "\n",
    "var = \"Python\"  # 문자열형\n",
    "print(var)      # 출력: Python\n",
    "\n",
    "var = [1, 2, 3]  # 리스트형\n",
    "print(var)       # 출력: [1, 2, 3]\n",
    "\n",
    "#함수명 var에 각기 다른 변수형을 입력하는 것을 보여주는 예제입니다.\n",
    "#이것은 파이썬의 특징 중 하나입니다."
   ]
  },
  {
   "cell_type": "markdown",
   "metadata": {},
   "source": [
    "### 숫자형 변수\n",
    "\n",
    "숫자형 변수는 정수형(int)과 실수형(float)이 있습니다."
   ]
  },
  {
   "cell_type": "code",
   "execution_count": null,
   "metadata": {},
   "outputs": [],
   "source": [
    "#정수인 경우\n",
    "type(123)"
   ]
  },
  {
   "cell_type": "code",
   "execution_count": null,
   "metadata": {},
   "outputs": [],
   "source": [
    "#실수인 경우\n",
    "type(123.45)"
   ]
  },
  {
   "cell_type": "code",
   "execution_count": null,
   "metadata": {},
   "outputs": [],
   "source": [
    "#정수+실수인 경우 어떻게 표시될까?\n",
    "print(3+4.5)\n",
    "type(3+4.5)\n"
   ]
  },
  {
   "cell_type": "markdown",
   "metadata": {},
   "source": [
    "### 파이썬의 산술연산\n",
    "변수의 숫자를 다뤄봤으니 이제 파이썬의 산술연산에 대해서 살펴봅시다.\n",
    "\n",
    "파이썬은 다음과 같이 총 7가지의 산술연산자를 가지고 있습니다.\n",
    "\n",
    "- \\+ : 더하기\n",
    "- \\- : 뺴기\n",
    "- \\* : 곱하기\n",
    "- / : 나누기\n",
    "- // : 나누기에서 몫만 구하기\n",
    "- % : 나누기에서 나머지만 구하기\n",
    "- ** : 거듭제곱"
   ]
  },
  {
   "cell_type": "code",
   "execution_count": null,
   "metadata": {},
   "outputs": [],
   "source": [
    "print(5 + 2)  # 더하기\n",
    "print(5 - 2)  # 빼기\n",
    "print(5 * 2)  # 곱하기\n",
    "print(5 / 2)  # 나누기\n",
    "print(5 // 2) # 몫 구하기\n",
    "print(5 % 2)  # 나머지 구하기\n",
    "print(5 ** 2) # 거듭제곱"
   ]
  },
  {
   "cell_type": "markdown",
   "metadata": {},
   "source": [
    "기본적인 산술 연산을 살펴보았습니다. \n",
    "\n",
    "이제 괄호를 사용하여 복잡한 연산을 순서대로 진행하는 것에 대해서 살표보겠습니다.\n",
    "\n",
    "수학시간에 배운 것 같이 파이썬의 산술연산도 괄호 안의 연산을 먼저 수행합니다. "
   ]
  },
  {
   "cell_type": "code",
   "execution_count": null,
   "metadata": {},
   "outputs": [],
   "source": [
    "(10/5 + (5-2)) * (1.2+2) / 2**2"
   ]
  },
  {
   "cell_type": "markdown",
   "metadata": {},
   "source": [
    "### 문자열(str)\n",
    "문자열(string)은 문자(character)의 나열을 뜻하는데, 파이썬에서는 따옴표로 둘러싼 문자의 집합으로 표시합니다.\n",
    "\n",
    "문자열을 선언하기 위헤서는 따옴표(') 또는 쌍따옴표(\")를 사용하는데 문자열 양쪽에 동일한 따옴표를 써야 제대로 선언됩니다."
   ]
  },
  {
   "cell_type": "code",
   "execution_count": null,
   "metadata": {},
   "outputs": [],
   "source": [
    "'string'"
   ]
  },
  {
   "cell_type": "code",
   "execution_count": null,
   "metadata": {},
   "outputs": [],
   "source": [
    "\"문자열\""
   ]
  },
  {
   "cell_type": "markdown",
   "metadata": {},
   "source": [
    "파이썬의 문자열은 '+'를 이용하여 문자열끼리 연결하여 사용이 가능합니다. "
   ]
  },
  {
   "cell_type": "code",
   "execution_count": null,
   "metadata": {},
   "outputs": [],
   "source": [
    "\"Hello\" + \" \" + \"Python \" + \"!\""
   ]
  },
  {
   "cell_type": "markdown",
   "metadata": {},
   "source": [
    "'*'를 이용하는 경우에는 문자열을 복재할 수도 있습니다. "
   ]
  },
  {
   "cell_type": "code",
   "execution_count": null,
   "metadata": {},
   "outputs": [],
   "source": [
    "\"Hello Python ! \" * 3"
   ]
  },
  {
   "cell_type": "markdown",
   "metadata": {},
   "source": [
    "문자열의 길이를 알기 위해서 함수 len()을 사용하면 됩니다."
   ]
  },
  {
   "cell_type": "code",
   "execution_count": null,
   "metadata": {},
   "outputs": [],
   "source": [
    "len(\"Python\")"
   ]
  },
  {
   "cell_type": "code",
   "execution_count": null,
   "metadata": {},
   "outputs": [],
   "source": [
    "len(\"Python \")\n",
    "#공백도 문자열에 포함됨을 기억하자!"
   ]
  },
  {
   "cell_type": "markdown",
   "metadata": {},
   "source": [
    "### 불리언형(bool)\n",
    "불리언 또는 불로 불리는 불리언형은 논리적 참(True), 거짓(False)을 표현하는 자료형입니다.\n",
    "\n",
    "논리적으로 어떠한 조건이 맞다 틀리다라는 것을 판별하는 것으로, 논리 연산자와 함께 특정 조건을 판단하는데 사용합니다."
   ]
  },
  {
   "cell_type": "code",
   "execution_count": null,
   "metadata": {},
   "outputs": [],
   "source": [
    "print(True and False)\n",
    "print(True or False)\n",
    "print(not False)"
   ]
  },
  {
   "cell_type": "markdown",
   "metadata": {},
   "source": [
    "### 논리연산자\n",
    "\n",
    "파이썬에서는 논리 연산을 수행하기 위해서 다음과 같은 논리연산자를 가지고 있습니다.\n",
    "\n",
    "| 논리연산자 | 의미 | 예 | 설명 |\n",
    "|:---:|:---:|:---:|:---:|\n",
    "|and| 논리곱 | A and B | A와 B 모두 참일 경우만 참이고, 나머지는 거짓 |\n",
    "|or| 논리합 | A or B | A와 B 중 하나라도 참이라면 참, 둘 다 거짓일 경우만 거짓 |\n",
    "|not| 논리부정 | not A | A가 참이면 거짓, 거짓이라면 참 | \n",
    "\n"
   ]
  },
  {
   "cell_type": "code",
   "execution_count": null,
   "metadata": {},
   "outputs": [],
   "source": [
    "# 숫자 자료형에 대한 비교 연산자 활용 예\n",
    "print(10 == 5)  # 10과 5는 같다 --> 거짓(False)\n",
    "print(10 != 5)  # 10과 5는 같지 않다 --> 참(True)\n",
    "print(10 < 5)   # 10은 5보다 작다 --> 거짓(False)\n",
    "print(10 > 5)   # 10은 5보다 크다 --> 참(True)\n",
    "print(10 <= 5)  # 10은 5보다 작거나 같다 --> 거짓(False)\n",
    "print(10 >= 5)  # 10은 5보다 크거나 같다 --> 참(True)\n",
    "\n",
    "# 불 자료형에 대한 논리 연산자 활용 예\n",
    "print(True == False) # True와 False는 같다 --> 거짓(False)\n",
    "print(True != False) # True와 False는 같지 않다 --> 참(True)"
   ]
  },
  {
   "cell_type": "markdown",
   "metadata": {},
   "source": [
    "### 비교연산자(Comparison operator)\n",
    "비교연산자는 양쪽의 값을 비교해서 참인지 거짓인지 구분된 불리언형 값을 만들어내는 연산자입니다.\n",
    "\n",
    "컴퓨터프로그래밍에서 비교란 주어진 값들이 같은지, 다른지, 큰지, 작은지를 구분하는 것을 의미합니다.\n",
    "\n",
    "다음은 파이썬에서 제공하는 비교연산자입니다.\n",
    "\n",
    "| 비교연산자 | 의미 | 예 | 설명 |\n",
    "|:---:|:---:|:---:|:---:|\n",
    "|==| 같다 | A == B | A는 B와 같다. |\n",
    "|!=| 같지 않다 | A != B | A는 B와 같지 않다. |\n",
    "|<| 작다 | A < B | A는 B보다 작다 | \n",
    "|>| 크다 | A > B | A는 B보다 크다 | \n",
    "|<=| 작가나 같다 | A <= B | A는 B보다 작거나 같다 | \n",
    "|>=| 크거나 같다 | A >= B | A는 B보다 크거나 같다 | "
   ]
  },
  {
   "cell_type": "code",
   "execution_count": null,
   "metadata": {},
   "outputs": [],
   "source": [
    "#비교연산자는 논리연산자보다 우선 순위가 높습디다. 따라서 비교연산자와 논리연사자가 함꼐 있을 경우 비교 연산을 먼저 수행합니다. \n",
    "1 > 0 and (5 > 10 or 3 < 5)"
   ]
  },
  {
   "cell_type": "markdown",
   "metadata": {},
   "source": [
    "### 리스트(list)\n",
    "리스트는 파이썬의 콜렉션(collection) 중 하나입니다. 책이나 강좌에 따라서 콜렉션을 자료구조라고 부르기도 합니다. \n",
    "\n",
    "리스트는 동적배열로 프로그래머가 인덱스를 조절하지 않아도 값을 자유롭게 추가 삭제할 수 있는 구조를 가지고 있습니다.\n",
    "\n",
    "또한 그 값을 자유롭게 변경할 수 있는 가변(Mutable) 데이터 타입입니다. "
   ]
  },
  {
   "cell_type": "code",
   "execution_count": null,
   "metadata": {},
   "outputs": [],
   "source": [
    "#리스트의 선언\n",
    "#대괄호[]안에 값을 선언하여 리스트를 만듭니다.\n",
    "\n",
    "list_num = [10, 20, 30, 40] # 숫자로 리스트를 구성\n",
    "list_str = ['programming', 'language', 'python'] # 문자열로 리스트를 구성\n",
    "list_mix1 = [1.5, 2.6, '문자열1', '문자열2'] # 숫자와 문자열로 리스트를 구성\n",
    "list_mix2 = [4.0, True, 'abc', list_mix1] # 숫자, 불, 문자열, 리스트로 리스트를 구성\n",
    "list_empty = [] # 요소가 없는 빈 리스트\n",
    "\n",
    "print(list_num)\n",
    "print(list_str)\n",
    "print(list_mix1)\n",
    "print(list_mix2)\n",
    "print(list_empty)"
   ]
  },
  {
   "cell_type": "markdown",
   "metadata": {},
   "source": [
    "리스트의 구성 요소가 몇 개로 구성됐는지 알아야 할 경우가 있습니다. 이 때는 문자열 길이를 알아내는데 사용하였던 len()을 쓸 수 있습니다."
   ]
  },
  {
   "cell_type": "code",
   "execution_count": null,
   "metadata": {},
   "outputs": [],
   "source": [
    "print(len(list_num))   # 요소의 개수: 4\n",
    "print(len(list_str))   # 요소의 개수: 3\n",
    "print(len(list_mix1))  # 요소의 개수: 4\n",
    "print(len(list_mix2))  # 요소의 개수: 4\n",
    "print(len(list_empty)) # 요소의 개수: 0"
   ]
  },
  {
   "cell_type": "markdown",
   "metadata": {},
   "source": [
    "#### 리스트 인덱싱(indexing)\n",
    "리스트 인덱싱이란, 특정 요소에 값을 인덱스로 접근하기 위해 사용하는 방법으로  “변수명[인덱스]”처럼 인덱스로 접근하는 것으로 기억해 두면 좋습니다.\n",
    "\n",
    "대다수의 프로그래밍 언어와 마찬가지로 인덱스는 0부터 시작합니다."
   ]
  },
  {
   "cell_type": "code",
   "execution_count": null,
   "metadata": {},
   "outputs": [],
   "source": [
    "print(list_num)    # list_num 출력\n",
    "print(list_num[0]) # list_num의 첫 번째 요소를 가져옴 \n",
    "print(list_num[1]) # list_num의 두 번째 요소를 가져옴 \n",
    "print(list_num[3]) # list_num의 네 번째 요소를 가져옴\n",
    "print(list_num[-1]) # list_num의 마지막 요소를 가져옴 (음수 인덱스 이용)\n",
    "print(list_num[-2]) # list_num의 마지막 요소 앞의 요소를 가져옴 (음수 인덱스 이용)"
   ]
  },
  {
   "cell_type": "code",
   "execution_count": null,
   "metadata": {},
   "outputs": [],
   "source": [
    "print(list_mix2)       # list_mix2 출력\n",
    "print(list_mix2[3])    # list_mix2에서 네 번째 요소를 가져옴\n",
    "print(list_mix2[3][2]) # 네 번째 요소인 리스트에서 세 번째 요소를 가져옴"
   ]
  },
  {
   "cell_type": "markdown",
   "metadata": {},
   "source": [
    "#### 리스트 슬라이싱(slicing)\n",
    "리스트에 들어있는 값들 중 특정 부분만 따로 떼서 선택하는 방법입니다.\n",
    "\n",
    "다수의 값 중 조건에 만족하는 값을 검색하고 수정, 삭제할 수 있습니다.\n",
    "\n",
    " 인덱스는 0부터 시작하며, 마지막 요소의 n-1 까지만 슬라이싱 가능합니다."
   ]
  },
  {
   "cell_type": "code",
   "execution_count": null,
   "metadata": {},
   "outputs": [],
   "source": [
    "list_num3 = [0, 10, 20, 30, 40, 50, 60, 70, 80, 90] # 리스트 생성\n",
    "\n",
    "print(list_num3)       # 리스트 출력\n",
    "print(list_num3[0:4])  # 인덱스 범위: 0 ~ 3\n",
    "print(list_num3[5:10]) # 인덱스 범위: 5 ~ 9\n",
    "print(list_num3[:4])   # start를 생략. 인덱스 범위: 0 ~ 3\n",
    "print(list_num3[5:])   # end를 생략. 인덱스 범위: 5 ~ 끝(9)\n",
    "print(list_num3[:])    # start와 end 둘 다 생략. 인덱스 범위: 모든 인덱스"
   ]
  },
  {
   "cell_type": "code",
   "execution_count": null,
   "metadata": {},
   "outputs": [],
   "source": [
    "#문자열의 경우도 리스트와 마찬가지로 슬라이싱 가능\n",
    "\n",
    "str2 = \"가다나다라마사ABCDEFG1234567\"\n",
    "print(str2)        # 문자열 전체 출력\n",
    "print(str2[0:7])   # 문자열 인덱스 범위: 0 ~ 6\n",
    "print(str2[:7])    # start를 생략. 문자열 인덱스 범위: 0 ~ 6\n",
    "print(str2[7:14])  # 문자열 인덱스 범위: 7 ~ 13\n",
    "print(str2[14:])   # 문자열 인덱스 범위: 14 ~ 끝(20)"
   ]
  },
  {
   "cell_type": "markdown",
   "metadata": {},
   "source": [
    "#### 리스트 관련 메서드\n"
   ]
  },
  {
   "cell_type": "code",
   "execution_count": null,
   "metadata": {},
   "outputs": [],
   "source": [
    "a = [1, 2, 3, 4]\n",
    "\n",
    "del a[3] # 삭제\n",
    "print(a) # 1, 2, 3\n",
    "a.append(4) # 추가\n",
    "print(a) # 1, 2, 3, 4\n",
    "a[3] = 5 # 갱신\n",
    "print(a) # 1, 2, 3, 5\n",
    "b = a # b 변수에 a 리스트 할당\n",
    "\n",
    "print(a+b) # [1, 2, 3, 5, 1, 2, 3, 5]\n",
    "print(a*2) # [1, 2, 3, 5, 1, 2, 3, 5]"
   ]
  },
  {
   "cell_type": "code",
   "execution_count": null,
   "metadata": {},
   "outputs": [],
   "source": [
    "a = \"Life is too short\".split()\n",
    "print(a) # [Life, is, too, short]\n",
    "print(a.index(\"Life\")) # 0\n",
    "print(a.count(\"Life\")) # 1"
   ]
  },
  {
   "cell_type": "markdown",
   "metadata": {},
   "source": [
    "### 튜플(tuple)\n",
    "튜플은 리스트와 비슷하게 여러 요소들을 갖는 컬렉션입니다.\n",
    "\n",
    "리스트와 다른 점은 튜플은 새로운 요소를 추가하거나 갱신, 삭제하는 일을 할 수 없습니다.\n",
    "\n",
    "즉, 튜플은 한변 결정된 요소를 변경할 수 없는 불변(Immutable) 데이터 타입입니다."
   ]
  },
  {
   "cell_type": "code",
   "execution_count": null,
   "metadata": {},
   "outputs": [],
   "source": [
    "#튜플의 선언은 소괄호()를 이용하여 선언\n",
    "\n",
    "tuple_num1 = (0, 1, 2, 3, 4) # 소괄호로 튜플을 생성\n",
    "tuple_num2 =  5, 6, 7, 8, 9  # 괄호 없이 튜플을 생성\n",
    "\n",
    "print(tuple_num1)\n",
    "print(tuple_num2)\n",
    "\n",
    "tuple_num3 = (10, )      # 소괄호로 하나의 요소를 갖는 튜플 생성\n",
    "tuple_num4 =  \"데이터1\", # 괄호 없이 하나의 요소를 갖는 튜플 생성 \n",
    "\n",
    "print(tuple_num3)\n",
    "print(tuple_num4)"
   ]
  },
  {
   "cell_type": "markdown",
   "metadata": {},
   "source": [
    "#### 튜플 다루기\n",
    "\n",
    "튜플의 경우 리스트와 마찬가지로 인덱싱과 슬라이싱 등을 수행할 수 있습니다."
   ]
  },
  {
   "cell_type": "code",
   "execution_count": null,
   "metadata": {},
   "outputs": [],
   "source": [
    "tuple_mixed1 = ('programming', 'language', 'python', 1, 2, 3) # 튜플 생성\n",
    "print(tuple_mixed1[0])   # 튜플 인덱싱\n",
    "print(tuple_mixed1[0:4]) # 튜플 슬라이싱(인덱스 0~3까지의 요소를 선택)"
   ]
  },
  {
   "cell_type": "markdown",
   "metadata": {},
   "source": [
    "### 세트(Set)\n",
    "세트는 중복이 없는 요소들(Unique elements)로만 구성된 집합 컬레션입니다.\n",
    "\n",
    "중괄호{} 이용하여 선업하며, 중복된 값을 할당하거나 초기값으로 설정해도 중복된 값은 저장되지 않습니다.\n",
    "\n",
    "이러한 특성을 이용하여, 중복없이 유니크한 값을 원할 경우 유용하게 사용할 수 있습니다."
   ]
  },
  {
   "cell_type": "code",
   "execution_count": null,
   "metadata": {},
   "outputs": [],
   "source": [
    "set_num = {10, 100, 2, 3, 4, 4, 5}\n",
    "set_str = {\"사과\", \"배\", \"오렌지\", \"귤\", \"귤\"}\n",
    "\n",
    "print(set_num)\n",
    "print(set_str)"
   ]
  },
  {
   "cell_type": "markdown",
   "metadata": {},
   "source": [
    "세트는 중복된 값을 가질 수 없는 특징이 있으며, 또한 인덱싱 할 수 없습니다.\n",
    "\n",
    "세트를 선언할 때 주어진 각 요소들이 입력할 때와 동일한 순서로 출력된다고 기대할 수 없습니다."
   ]
  },
  {
   "cell_type": "code",
   "execution_count": null,
   "metadata": {},
   "outputs": [],
   "source": [
    "set_num[0]"
   ]
  },
  {
   "cell_type": "markdown",
   "metadata": {},
   "source": [
    "#### 세트의 교집합, 합집합, 차집합\n",
    "세트는 수학적에서 말하는 집합입니다.\n",
    "\n",
    "따라서, 수학에서 볼 수 있는 집합의 연산인 교집합, 합집합, 차집합을 수행할 수 있습니다."
   ]
  },
  {
   "cell_type": "code",
   "execution_count": null,
   "metadata": {},
   "outputs": [],
   "source": [
    "set_A = {0, 1, 2, 3, 4} # 세트(집합) A\n",
    "set_B = {3, 4, 5, 6, 7} # 세트(집합) B\n",
    "\n",
    "# &, |, - 연산자 사용\n",
    "print(set_A & set_B)    # 집합 A와 B의 교집합(A∩B)\n",
    "print(set_A | set_B)    # 집합 A와 B의 합집합(A∪B)\n",
    "print(set_A - set_B)    # 집합 A와 B의 차집합(A―B)\n",
    "\n",
    "# intersection(), union(), difference() 메서드 사용\n",
    "print(set_A.intersection(set_B)) # 집합 A와 B의 교집합(A∩B)\n",
    "print(set_A.union(set_B))        # 집합 A와 B의 합집합(A∪B)\n",
    "print(set_A.difference(set_B))   # 집합 A와 B의 차집합(A―B)"
   ]
  },
  {
   "cell_type": "markdown",
   "metadata": {},
   "source": [
    "### 딕셔너리(Dictionary)\n",
    "딕셔너리는 키(Key)와 값(value)을 하나의 요소로 갖는 컬렉션입니다.\n",
    "\n",
    "리스트나 튜플의 경우 요소를 지정하면 요소의 위치에 따라 인덱스가 자동 생성됩니다.\n",
    "\n",
    "따라서, 원하는 위치의 요소의 접근을 위해서는 인덱스를 알아야만 했습니다.\n",
    "\n",
    "반면, 딕셔너리는 키와 값의 쌍으로 구성돼 있으서, 인덱스 대신 키를 이용하여 값에 접근 가능합니다."
   ]
  },
  {
   "cell_type": "code",
   "execution_count": null,
   "metadata": {},
   "outputs": [],
   "source": [
    "dict_ex1 = {1:'사과', 2:'배', 3:'복숭아', 4:'딸기'}     # 키는 숫자, 값은 문자열\n",
    "dict_ex2 = {1:1234, 5:5678, 7:7890}                     # 키와 값이 모두 숫자\n",
    "dict_ex3 = {True: '맞습니다.', False:'아닙니다.'}      # 키는 불, 값은 문자열 \n",
    "dict_ex4 = {'ID_101':['민준',24], 'ID_102':['서연',27]} # 키는 문자열, 값은 리스트\n",
    "\n",
    "print(dict_ex1)\n",
    "print(dict_ex2)\n",
    "print(dict_ex3)\n",
    "print(dict_ex4)"
   ]
  },
  {
   "cell_type": "markdown",
   "metadata": {},
   "source": [
    "#### 딕셔너리 값 선택, 추가, 삭제, 갱신\n",
    "딕셔너리는 변수명[키]을 통해 값에 접근하고, 해당 키값에 값을 할당하거나 새로운 키 값에 값을 할당하여 값을 추가할 수 있습니다. \n",
    "\n",
    "리스트와 마찬가지로 del 키워드를 통해 해당 키에 해당하는 키, 값을 삭제할 수 있습니다.\n"
   ]
  },
  {
   "cell_type": "code",
   "execution_count": null,
   "metadata": {},
   "outputs": [],
   "source": [
    "print(dict_ex1[1])\n",
    "print(dict_ex2[7])\n",
    "print(dict_ex3[True])\n",
    "print(dict_ex4['ID_102'])"
   ]
  },
  {
   "cell_type": "code",
   "execution_count": null,
   "metadata": {},
   "outputs": [],
   "source": [
    "py = {\"Life\": 1, \"is\": 2, \"too\": 3}\n",
    "py[\"too\"] = 4 # 수정\n",
    "py[\"short\"] = 5 # 추가\n",
    "del py[\"Life\"] # 삭제\n",
    "print(py) # 'is': 2, 'too': 4, 'short': 5\n",
    "\n",
    "a = {\"a\": 1, \"b\": 2, \"c\": 3}\n",
    "for key in a:\n",
    "  print(a[key], end = '') # 123"
   ]
  },
  {
   "cell_type": "markdown",
   "metadata": {},
   "source": [
    "#### 딕셔너리 메서드\n",
    "딕셔너리 데이터를 다루기 위해서 다양한 메서드가 있습니다.\n",
    "\n",
    "메서드 형식은 다음과 같습니다.\n",
    "\n",
    " dict.data.method()"
   ]
  },
  {
   "cell_type": "code",
   "execution_count": null,
   "metadata": {},
   "outputs": [],
   "source": [
    "print(dict_num_alpha) # 기존 딕셔너리 출력\n",
    "\n",
    "dict_new = {5: 'f', 6: 'g'} # 딕셔너리 생성\n",
    "dict_num_alpha.update(dict_new) # 기존 딕셔너리에 새로운 딕셔너리의 키와 값의 쌍을 추가\n",
    "print(dict_num_alpha) # 새로운 딕셔너리 추가 후 딕셔너리 출력"
   ]
  },
  {
   "cell_type": "code",
   "execution_count": null,
   "metadata": {},
   "outputs": [],
   "source": [
    "print(dict_num_alpha.get(1)) # 입력값이 딕셔너리 키에 있으면 대응하는 값을 반환 \n",
    "print(dict_num_alpha.get(7)) # 입력값이 딕셔너리 키에 없으면 None을 반환"
   ]
  },
  {
   "cell_type": "code",
   "execution_count": null,
   "metadata": {},
   "outputs": [],
   "source": [
    "dict_num_eng = {0: 'zero', 1: 'one', 2: 'two', 3: 'three'}\n",
    "print(dict_num_eng)\n",
    "\n",
    "dict_num_eng.clear() # 딕셔너리의 모든 키와 값의 쌍을 삭제\n",
    "print(dict_num_eng)"
   ]
  }
 ],
 "metadata": {
  "kernelspec": {
   "display_name": "base",
   "language": "python",
   "name": "python3"
  },
  "language_info": {
   "codemirror_mode": {
    "name": "ipython",
    "version": 3
   },
   "file_extension": ".py",
   "mimetype": "text/x-python",
   "name": "python",
   "nbconvert_exporter": "python",
   "pygments_lexer": "ipython3",
   "version": "3.11.7"
  }
 },
 "nbformat": 4,
 "nbformat_minor": 2
}
