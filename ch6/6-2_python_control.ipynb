{
 "cells": [
  {
   "cell_type": "markdown",
   "metadata": {},
   "source": [
    "## 제어문\n",
    "제어문이란 프로그램의 실행 흐름을 제어하는 구문으로, 조건에 따라 코드 블록을 실행하거나 반복적으로 코드 블럭을 실행하는 등의 작업을 수행합니다.\n",
    "\n",
    "효율적인 코드 작성을 위해서는 프로그램의 실행 흐름을 제어하는 것은 필수적입니다. "
   ]
  },
  {
   "cell_type": "markdown",
   "metadata": {},
   "source": [
    "### 조건문\n",
    "조건에 따라 코드를 다르게 수행하는 제어문입니다.\n",
    "\n",
    "대표적으로 if, else, elif 등이 있습니다."
   ]
  },
  {
   "cell_type": "code",
   "execution_count": null,
   "metadata": {},
   "outputs": [],
   "source": [
    "x = 95           # x에 95를 할당\n",
    "\n",
    "if x >= 90:      # <조건>\n",
    "    print(\"합격\") # <조건>이 참이면 <코드 블록>을 수행"
   ]
  },
  {
   "cell_type": "code",
   "execution_count": null,
   "metadata": {},
   "outputs": [],
   "source": [
    "x = 85                            # x에 85를 할당\n",
    "\n",
    "if x >= 90:                      # <조건>\n",
    "    print(\"축하합니다.\")          # <코드 블록 1>\n",
    "    print(\"당신은 합격입니다.\")   # <조건>이 참이면 <코드 블록 1>을 수행\n",
    "else:\n",
    "    print(\"죄송합니다.\")          # <코드 블록 2>\n",
    "    print(\"당신은 불합격입니다.\") # <조건>이 참이 아니면 <코드 블록 2>를 수행"
   ]
  },
  {
   "cell_type": "code",
   "execution_count": 1,
   "metadata": {},
   "outputs": [
    {
     "name": "stdout",
     "output_type": "stream",
     "text": [
      "C 학점입니다.\n"
     ]
    }
   ],
   "source": [
    "score = 75\n",
    "\n",
    "if score >= 90:\n",
    "    print(\"A 학점입니다.\")\n",
    "elif score >= 80:\n",
    "    print(\"B 학점입니다.\")\n",
    "elif score >= 70:\n",
    "    print(\"C 학점입니다.\")\n",
    "elif score >= 60:\n",
    "    print(\"D 학점입니다.\")\n",
    "else:\n",
    "    print(\"F 학점입니다.\")\n",
    "\n",
    "# C 학점입니다."
   ]
  },
  {
   "cell_type": "markdown",
   "metadata": {},
   "source": [
    "### 반복문\n",
    "반복문은 코드 블록을 반복적으로 실행하는 구문입니다.\n",
    "\n",
    "파이썬의 반복문은 for문과 while 문이 있습니다.\n",
    "\n",
    "while의 경우 조건이 참(True)인 경우 반복적으로 코드 블럭을 실행합니다."
   ]
  },
  {
   "cell_type": "markdown",
   "metadata": {},
   "source": [
    "#### for 반복문\n",
    "for문은 주로 리스트, 튜플, 문자열과 같은 iterable 객체를 순회할 때 사용합니다."
   ]
  },
  {
   "cell_type": "code",
   "execution_count": null,
   "metadata": {},
   "outputs": [],
   "source": [
    "for num in [0, 1, 2, 3, 4, 5]:\n",
    "    print(num)\n",
    "\n",
    "print(list(range(0, 10, 1)))\n",
    "print(list(range(10)))\n",
    "\n",
    "for num in range(6):\n",
    "    print(num)\n",
    "\n",
    "numbers = [10, 11, 12, 13, 14]  # 리스트의 길이는 5\n",
    "print(list(range(len(numbers)-1, -1, -1))) # 리스트의 인덱스를 역순으로 생성\n",
    "\n",
    "for k in range(len(numbers)-1, -1, -1): # 리스트의 인덱스를 역순으로 가져와서 처리\n",
    "    print(k, numbers[k]) # 리스트 인덱스(k)와 리스트 요소 출력\n",
    "\n",
    "list_num = [10, 20, 30, 40]\n",
    "\n",
    "for index, value in enumerate(list_num):\n",
    "     print(index, value)\n",
    "\n",
    "names = [\"이화림\", \"윤봉길\", \"고영근\", \"김상덕\", \"안중근\", \"이봉창\"] # 이름\n",
    "scores = [96, 85, 100, 70, 80, 75] # 시험 점수\n",
    "\n",
    "for k in range(len(names)):\n",
    "    print(names[k], scores[k])\n",
    "\n",
    "# 튜플 형태로 for 문에서 다수의 요소를 출력할 수 있음\n",
    "for name, score in zip(names, scores):\n",
    "    print(name, score)"
   ]
  },
  {
   "cell_type": "markdown",
   "metadata": {},
   "source": [
    "#### while 반복문"
   ]
  },
  {
   "cell_type": "code",
   "execution_count": null,
   "metadata": {},
   "outputs": [],
   "source": [
    "list_num = []   # 빈 리스트 생성\n",
    "count = 0       # count를 0으로 초기화\n",
    "\n",
    "while (count < 10):        # <조건> count가 10보다 작은지 검사 \n",
    "    list_num.append(count)  # <코드 블록> list_num에 count 추가\n",
    "    count = count + 1       # <코드 블록> count를 1씩 증가\n",
    "    \n",
    "print(list_num) # 리스트 list_num의 내용을 출력"
   ]
  },
  {
   "cell_type": "markdown",
   "metadata": {},
   "source": [
    "#### break 문\n",
    "\n",
    "반복문 내부에서 특정 조건을 만족하면 반복문을 종료해야 할 경우 사용됩니다."
   ]
  },
  {
   "cell_type": "code",
   "execution_count": null,
   "metadata": {},
   "outputs": [],
   "source": [
    "for num in range(1, 6):\n",
    "    if num == 3:\n",
    "        break\n",
    "    print(num)\n",
    "print(\"end of loop\")"
   ]
  },
  {
   "cell_type": "markdown",
   "metadata": {},
   "source": [
    "#### continue 문\n",
    "\n",
    "continue 문은 break문과 달리 반복문을 종료하지 않고, 반복문을 다음 순회로 넘어가게 합니다.\n",
    "\n",
    "반복문 내부에서 조건이 참인 경우 반복문의 다음 순회로 넘어가며, 조건이 거짓인 경우 코드 블록이 실행됩니다."
   ]
  },
  {
   "cell_type": "code",
   "execution_count": null,
   "metadata": {},
   "outputs": [],
   "source": [
    "for num in range(1, 6):\n",
    "    if num == 3:\n",
    "        continue\n",
    "    print(num)\n",
    "print(\"end of loop\")\n"
   ]
  },
  {
   "cell_type": "markdown",
   "metadata": {},
   "source": [
    "#### pass문\n",
    "pass문은 아무 작업도 수행하지 않는 구문입니다. \n",
    "\n",
    "주로 조건문이나 함수 등에서 구현해야 할 코드가 아직 정해지지 않았을 때, 구문이 유지되도록 할 때 사용됩니다."
   ]
  },
  {
   "cell_type": "markdown",
   "metadata": {},
   "source": [
    "## 데이터의 출력\n",
    "\n",
    "### 기본 출력"
   ]
  },
  {
   "cell_type": "code",
   "execution_count": null,
   "metadata": {},
   "outputs": [],
   "source": [
    "print(1, 2, 3, 4, 5) # 숫자 출력\n",
    "print('a', 'b', 'c', 'd', 'e') # 문자 출력\n",
    "print(123, \"abc\", True) # 숫자, 문자, 불 출력\n",
    "print(['abc', 123, 'def'], {\"a\": 1, \"b\": 2}) # 리스트와 딕셔너리 출력"
   ]
  },
  {
   "cell_type": "code",
   "execution_count": null,
   "metadata": {},
   "outputs": [],
   "source": [
    "print(\"합계:\") # end 옵션이 없으면 개행문자가 들어가서 줄 바꿈 수행\n",
    "print(90)\n",
    "print(\"합계:\", end='') # end 옵션에 빈 문자열을 입력해 줄 바꿈이 없도록 함\n",
    "print(90)"
   ]
  },
  {
   "cell_type": "code",
   "execution_count": null,
   "metadata": {},
   "outputs": [],
   "source": [
    "print(\"나는 파이썬을 이용해 \\n많은 업무를 \\n자동화합니다.\")"
   ]
  },
  {
   "cell_type": "markdown",
   "metadata": {},
   "source": [
    "### 형식 지정 출력"
   ]
  },
  {
   "cell_type": "code",
   "execution_count": null,
   "metadata": {},
   "outputs": [],
   "source": [
    "fruit_0 = \"Banana\"\n",
    "fruit_1 = \"Apple\"\n",
    "fruit_2 = \"Orange\"\n",
    "\n",
    "print(\"문자열 출력: {0}, {1}, {2}\".format(fruit_0, fruit_1, fruit_2))\n",
    "print(\"문자열 출력: {2}, {0}, {1}\".format(fruit_0, fruit_1, fruit_2))"
   ]
  },
  {
   "cell_type": "code",
   "execution_count": null,
   "metadata": {},
   "outputs": [],
   "source": [
    "print(\"문자열 출력: {}, {}, {}\".format(fruit_0, fruit_1, fruit_2))"
   ]
  },
  {
   "cell_type": "code",
   "execution_count": null,
   "metadata": {},
   "outputs": [],
   "source": [
    "num_int = 123\n",
    "num_float= 3.14159265358979323846 \n",
    "\n",
    "print(\"숫자 출력: {0}, {1}\".format(num_int, num_float))"
   ]
  },
  {
   "cell_type": "code",
   "execution_count": null,
   "metadata": {},
   "outputs": [],
   "source": [
    "name = \"홍길동\"\n",
    "phone_number = \"010-1234-5678\"\n",
    "\n",
    "print(f\"이름: {name}, 전화번호: {phone_number}\") # f-문자열 방식을 이용한 출력"
   ]
  },
  {
   "cell_type": "markdown",
   "metadata": {},
   "source": [
    "## 예외처리\n",
    "\n",
    "### try ~ exception"
   ]
  },
  {
   "cell_type": "code",
   "execution_count": null,
   "metadata": {},
   "outputs": [],
   "source": [
    "10/0"
   ]
  },
  {
   "cell_type": "code",
   "execution_count": null,
   "metadata": {},
   "outputs": [],
   "source": [
    "try:\n",
    "    10/0\n",
    "except:\n",
    "    print(\"실행 중 오류가 발생했습니다.\")"
   ]
  },
  {
   "cell_type": "code",
   "execution_count": null,
   "metadata": {},
   "outputs": [],
   "source": [
    "try:\n",
    "    10/0\n",
    "except ZeroDivisionError:\n",
    "    print(\"실행 중 숫자를 0으로 나누었습니다.\")"
   ]
  },
  {
   "cell_type": "code",
   "execution_count": null,
   "metadata": {},
   "outputs": [],
   "source": [
    "try:\n",
    "    for k in [1,2,3]:\n",
    "        if(k==3):\n",
    "            print(\"k = {0}. 일부러 오류 발생\".format(k))\n",
    "            raise  #오류 발생시키는 예약어\n",
    "        else:\n",
    "            print(\"k = {0}\".format(k))\n",
    "except:\n",
    "    print(\"실행 중 오류가 발생했습니다.\")"
   ]
  },
  {
   "cell_type": "markdown",
   "metadata": {},
   "source": [
    "### try ~ finally "
   ]
  },
  {
   "cell_type": "code",
   "execution_count": null,
   "metadata": {},
   "outputs": [],
   "source": [
    "tuple_num = (1,2,3) # 튜플 데이터\n",
    "\n",
    "try:\n",
    "    tuple_num[0] = 4 # 튜플의 요소를 변경할 수 없어 오류 발생\n",
    "except:\n",
    "    print(\"오류가 발생했습니다.\")\n",
    "finally:\n",
    "    print(\"tuple_num = {0}\".format(tuple_num))"
   ]
  }
 ],
 "metadata": {
  "kernelspec": {
   "display_name": "base",
   "language": "python",
   "name": "python3"
  },
  "language_info": {
   "codemirror_mode": {
    "name": "ipython",
    "version": 3
   },
   "file_extension": ".py",
   "mimetype": "text/x-python",
   "name": "python",
   "nbconvert_exporter": "python",
   "pygments_lexer": "ipython3",
   "version": "3.11.7"
  }
 },
 "nbformat": 4,
 "nbformat_minor": 2
}
